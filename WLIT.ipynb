{
  "nbformat": 4,
  "nbformat_minor": 0,
  "metadata": {
    "colab": {
      "provenance": [],
      "mount_file_id": "1uXQ4z1Cbnc3Nd8LCXLjQfJC3DCHeG_5Y",
      "authorship_tag": "ABX9TyNWQe8fcxC83wlIeO3r1vrY",
      "include_colab_link": true
    },
    "kernelspec": {
      "name": "python3",
      "display_name": "Python 3"
    },
    "language_info": {
      "name": "python"
    }
  },
  "cells": [
    {
      "cell_type": "markdown",
      "metadata": {
        "id": "view-in-github",
        "colab_type": "text"
      },
      "source": [
        "<a href=\"https://colab.research.google.com/github/ryunguo/WLIT/blob/main/WLIT.ipynb\" target=\"_parent\"><img src=\"https://colab.research.google.com/assets/colab-badge.svg\" alt=\"Open In Colab\"/></a>"
      ]
    },
    {
      "cell_type": "markdown",
      "source": [
        "**WLIT (What Language Is This?)**"
      ],
      "metadata": {
        "id": "nMQT1Glsmr_3"
      }
    },
    {
      "cell_type": "markdown",
      "source": [
        "We begin by importing the basic packages and modules, such as pandas and numpy."
      ],
      "metadata": {
        "id": "5ECS0oz8jCHu"
      }
    },
    {
      "cell_type": "code",
      "execution_count": 81,
      "metadata": {
        "id": "h71RC8CbeCAq"
      },
      "outputs": [],
      "source": [
        "import pandas as pd\n",
        "import numpy as np\n",
        "from sklearn.preprocessing import LabelEncoder\n",
        "import re\n",
        "import spacy"
      ]
    },
    {
      "cell_type": "markdown",
      "source": [
        "Here, we read the given CSV file and remove any languages that we deemed to be incompatible with our AI language detector."
      ],
      "metadata": {
        "id": "BPKbeRtojHs_"
      }
    },
    {
      "cell_type": "code",
      "source": [
        "df = pd.read_csv(\"Language Detection.csv\")"
      ],
      "metadata": {
        "id": "_uVDKA1KeRj1"
      },
      "execution_count": 82,
      "outputs": []
    },
    {
      "cell_type": "code",
      "source": [
        "language_list = ['English', 'French', 'Italian', 'Spanish', 'Portugeese', \"Greek\", \"Russian\", \"Danish\", \"Sweedish\", \"Dutch\", \"German\"]\n",
        "df = df.loc[df['Language'].isin(language_list)]"
      ],
      "metadata": {
        "id": "QLrsg1ZT1eS1"
      },
      "execution_count": 83,
      "outputs": []
    },
    {
      "cell_type": "markdown",
      "source": [
        "***Data Wrangling***"
      ],
      "metadata": {
        "id": "g7HDpgJWz0aK"
      }
    },
    {
      "cell_type": "markdown",
      "source": [
        "We use *LabelEncoder()* from *sklearn* to assign each language with a numerical value."
      ],
      "metadata": {
        "id": "7aeuiE8XjVhX"
      }
    },
    {
      "cell_type": "code",
      "source": [
        "x = df['Text']\n",
        "y = df['Language']\n",
        "le = LabelEncoder()\n",
        "y=le.fit_transform(y)"
      ],
      "metadata": {
        "id": "Ob7P2SzReWsF"
      },
      "execution_count": 84,
      "outputs": []
    },
    {
      "cell_type": "markdown",
      "source": [
        "We then used the *re* package to filter out any characters that wouldn't contribute to the AI detection, such as numbers, brackets, and special characters."
      ],
      "metadata": {
        "id": "bRMOBYXbjZh3"
      }
    },
    {
      "cell_type": "code",
      "source": [
        "data = []\n",
        "\n",
        "def removeNonsense(text):\n",
        "  text = re.sub(r'[0-9]', '', text)\n",
        "  text = re.sub(r'[\\[\\]]', '', text)\n",
        "  text = re.sub(r'[\\n]', '', text)\n",
        "\n",
        "  text = text.lower()\n",
        "  return text\n",
        "\n",
        "df[\"Text\"] = df[\"Text\"].apply(removeNonsense)"
      ],
      "metadata": {
        "id": "zAG-sNOZxZcD"
      },
      "execution_count": 85,
      "outputs": []
    },
    {
      "cell_type": "markdown",
      "source": [
        "Here, we downloaded the necessary packages from the spaCy module, that provides us with information about each language, such as the stopwords, lemmatization, and punctuation."
      ],
      "metadata": {
        "id": "Ls4278Zpjq2F"
      }
    },
    {
      "cell_type": "code",
      "source": [
        "\n",
        "!python -m spacy download en_core_web_sm\n",
        "!python -m spacy download fr_core_news_sm\n",
        "!python -m spacy download it_core_news_sm\n",
        "!python -m spacy download pt_core_news_sm\n",
        "!python -m spacy download es_core_news_sm\n",
        "!python -m spacy download el_core_news_sm\n",
        "!python -m spacy download ru_core_news_sm\n",
        "!python -m spacy download da_core_news_sm\n",
        "!python -m spacy download sv_core_news_sm\n",
        "!python -m spacy download nl_core_news_sm\n",
        "!python -m spacy download de_core_news_sm"
      ],
      "metadata": {
        "id": "Uz11UOnXx56o"
      },
      "execution_count": null,
      "outputs": []
    },
    {
      "cell_type": "markdown",
      "source": [
        "***Text Pre-processing***"
      ],
      "metadata": {
        "id": "tRtx42KWTus_"
      }
    },
    {
      "cell_type": "markdown",
      "source": [
        "Using the spaCy modules, we removed any punctuation and stopwords (\"the\", \"a\"), as well as lemmatized (\"is\" -> \"be\", \"going\" -> \"go\") each word.\n",
        "\n",
        "After that process was complete, we updated the dataframe with the filtered values."
      ],
      "metadata": {
        "id": "plaaLMmaj9O_"
      }
    },
    {
      "cell_type": "code",
      "source": [
        "nlp_en = spacy.load(\"en_core_web_sm\")\n",
        "nlp_fr = spacy.load(\"fr_core_news_sm\")\n",
        "nlp_it = spacy.load(\"it_core_news_sm\")\n",
        "nlp_pr = spacy.load(\"pt_core_news_sm\")\n",
        "nlp_sp = spacy.load(\"es_core_news_sm\")\n",
        "nlp_el = spacy.load(\"el_core_news_sm\")\n",
        "nlp_ru = spacy.load(\"ru_core_news_sm\")\n",
        "nlp_da = spacy.load(\"da_core_news_sm\")\n",
        "nlp_sv = spacy.load(\"sv_core_news_sm\")\n",
        "nlp_nl = spacy.load(\"nl_core_news_sm\")\n",
        "nlp_de = spacy.load(\"de_core_news_sm\")\n",
        "\n",
        "lang_dict = {\n",
        "    \"English\": nlp_en,\n",
        "    \"French\": nlp_fr,\n",
        "    \"Italian\": nlp_it,\n",
        "    \"Portugeese\": nlp_pr,\n",
        "    \"Spanish\": nlp_sp,\n",
        "    \"Greek\": nlp_el,\n",
        "    \"Russian\": nlp_ru,\n",
        "    \"Danish\": nlp_da,\n",
        "    \"Sweedish\": nlp_sv,\n",
        "    \"Dutch\": nlp_nl,\n",
        "    \"German\": nlp_de\n",
        "    }\n",
        "\n",
        "def removeNonsense(doc):\n",
        "  return [token.lemma_ for token in doc if (not token.is_stop) and (not token.is_punct)]\n",
        "\n",
        "for row in df.iterrows():\n",
        "  doc = lang_dict[row[1][1]](row[1][0]) "
      ],
      "metadata": {
        "id": "SzGpv2dT8pPr"
      },
      "execution_count": 88,
      "outputs": []
    },
    {
      "cell_type": "markdown",
      "source": [
        "***Text Representation, Text -> Vector***"
      ],
      "metadata": {
        "id": "5TQfQ02cUU42"
      }
    },
    {
      "cell_type": "markdown",
      "source": [
        "Next, we used *sklearn* to import *CountVectorizer* which converts individual words into a vector counterpart."
      ],
      "metadata": {
        "id": "yPjlYKlXkW0w"
      }
    },
    {
      "cell_type": "code",
      "source": [
        "from sklearn.feature_extraction.text import CountVectorizer\n",
        "\n",
        "count_vectorizer = CountVectorizer()\n",
        "vect_list = count_vectorizer.fit_transform(df['Text']).toarray()"
      ],
      "metadata": {
        "id": "xBL9R3ErCGVU"
      },
      "execution_count": 89,
      "outputs": []
    },
    {
      "cell_type": "markdown",
      "source": [
        "Then, we created training and testing variables by splitting our dataframes."
      ],
      "metadata": {
        "id": "TVa6EWfQkniI"
      }
    },
    {
      "cell_type": "code",
      "source": [
        "from sklearn.model_selection import train_test_split\n",
        "\n",
        "training_x, testing_x, training_y, testing_y = train_test_split(vect_list, y, test_size = 0.25)"
      ],
      "metadata": {
        "id": "OznI6ldBByb1"
      },
      "execution_count": 90,
      "outputs": []
    },
    {
      "cell_type": "markdown",
      "source": [
        "Next, we used Naive Bayes algorithms from *sklearn* in order to train our model."
      ],
      "metadata": {
        "id": "nBCkttuGlFng"
      }
    },
    {
      "cell_type": "code",
      "source": [
        "from sklearn.naive_bayes import MultinomialNB\n",
        "\n",
        "model = MultinomialNB()\n",
        "model.fit(training_x, training_y)"
      ],
      "metadata": {
        "id": "p6S55wnRDm1u"
      },
      "execution_count": null,
      "outputs": []
    },
    {
      "cell_type": "markdown",
      "source": [
        "Lastly, we created a function to take in a user-inputted string and uses our AI to predict which language it is in."
      ],
      "metadata": {
        "id": "mi6JaLBnler9"
      }
    },
    {
      "cell_type": "code",
      "source": [
        "def predict_language(text):\n",
        "  x = count_vectorizer.transform([text]).toarray()\n",
        "  language = model.predict(x)\n",
        "  language = le.inverse_transform(language)\n",
        "  print(f'This language is {language[0]}!')"
      ],
      "metadata": {
        "id": "YaTEoWrkEBcZ"
      },
      "execution_count": 104,
      "outputs": []
    },
    {
      "cell_type": "markdown",
      "source": [
        "***Examples***"
      ],
      "metadata": {
        "id": "W5RXOcBhlsX8"
      }
    },
    {
      "cell_type": "code",
      "source": [
        "predict_language(\"This is an AI language detector.\")"
      ],
      "metadata": {
        "colab": {
          "base_uri": "https://localhost:8080/"
        },
        "id": "bHNdqSpEeB2p",
        "outputId": "e0f1733a-2e2b-4a38-bd31-10367e13d177"
      },
      "execution_count": 105,
      "outputs": [
        {
          "output_type": "stream",
          "name": "stdout",
          "text": [
            "This language is English!\n"
          ]
        }
      ]
    },
    {
      "cell_type": "code",
      "source": [
        "predict_language(\"Je suis un étudiant à l'Université Carleton.\")"
      ],
      "metadata": {
        "colab": {
          "base_uri": "https://localhost:8080/"
        },
        "id": "ukurLxx0eERj",
        "outputId": "ccce0e21-8e88-4171-e7a2-4857176b54d3"
      },
      "execution_count": 106,
      "outputs": [
        {
          "output_type": "stream",
          "name": "stdout",
          "text": [
            "This language is French!\n"
          ]
        }
      ]
    },
    {
      "cell_type": "code",
      "source": [
        "predict_language(\"Espero que ganemos este hackathon.\")"
      ],
      "metadata": {
        "colab": {
          "base_uri": "https://localhost:8080/"
        },
        "id": "f0F3J__ul_3d",
        "outputId": "52a5ef7d-d431-44a2-aaaa-f2c65ce1baca"
      },
      "execution_count": 107,
      "outputs": [
        {
          "output_type": "stream",
          "name": "stdout",
          "text": [
            "This language is Spanish!\n"
          ]
        }
      ]
    },
    {
      "cell_type": "code",
      "source": [
        "predict_language(\"Questo rilevatore di lingua ha un alto tasso di precisione.\")"
      ],
      "metadata": {
        "colab": {
          "base_uri": "https://localhost:8080/"
        },
        "id": "JpnhqRL3mHNi",
        "outputId": "de48a7a2-8cc4-4ca4-d01a-287747851c99"
      },
      "execution_count": 108,
      "outputs": [
        {
          "output_type": "stream",
          "name": "stdout",
          "text": [
            "This language is Italian!\n"
          ]
        }
      ]
    },
    {
      "cell_type": "code",
      "source": [
        "predict_language(\"Olá Mundo. Eu amo ciência da computação.\")"
      ],
      "metadata": {
        "colab": {
          "base_uri": "https://localhost:8080/"
        },
        "id": "WSDv4sz7mQIy",
        "outputId": "5f2ca79c-c2e6-4fd7-a619-f81ecedce92d"
      },
      "execution_count": 109,
      "outputs": [
        {
          "output_type": "stream",
          "name": "stdout",
          "text": [
            "This language is Portugeese!\n"
          ]
        }
      ]
    },
    {
      "cell_type": "code",
      "source": [
        "predict_language(\"Η τεχνητή νοημοσύνη είναι πρωτοποριακή τεχνολογία.\")"
      ],
      "metadata": {
        "colab": {
          "base_uri": "https://localhost:8080/"
        },
        "id": "tdMUWv7UmbmL",
        "outputId": "d5804254-d4b8-4aca-ec96-075ff28d739b"
      },
      "execution_count": 110,
      "outputs": [
        {
          "output_type": "stream",
          "name": "stdout",
          "text": [
            "This language is Greek!\n"
          ]
        }
      ]
    },
    {
      "cell_type": "code",
      "source": [
        "predict_language(\"Мы были первыми в космосе.\")"
      ],
      "metadata": {
        "colab": {
          "base_uri": "https://localhost:8080/"
        },
        "id": "00gnnTw9roxc",
        "outputId": "02cef1b5-47f5-48d5-abaa-7c07fddd6a77"
      },
      "execution_count": 111,
      "outputs": [
        {
          "output_type": "stream",
          "name": "stdout",
          "text": [
            "This language is Russian!\n"
          ]
        }
      ]
    },
    {
      "cell_type": "code",
      "source": [
        "predict_language(\"I morgen er det en søndag, ugens sidste dag.\")"
      ],
      "metadata": {
        "colab": {
          "base_uri": "https://localhost:8080/"
        },
        "id": "mLLhY36KuksN",
        "outputId": "66517263-971a-48d7-8407-472379079167"
      },
      "execution_count": 112,
      "outputs": [
        {
          "output_type": "stream",
          "name": "stdout",
          "text": [
            "This language is Danish!\n"
          ]
        }
      ]
    },
    {
      "cell_type": "code",
      "source": [
        "predict_language(\"Abonner på PewDiePie.\")"
      ],
      "metadata": {
        "colab": {
          "base_uri": "https://localhost:8080/"
        },
        "id": "CNuWWL12uhjV",
        "outputId": "60742dbc-bb03-4716-8036-bf882b4900ba"
      },
      "execution_count": 113,
      "outputs": [
        {
          "output_type": "stream",
          "name": "stdout",
          "text": [
            "This language is Sweedish!\n"
          ]
        }
      ]
    },
    {
      "cell_type": "code",
      "source": [
        "predict_language(\"Bedankt voor het organiseren van dit evenement.\")"
      ],
      "metadata": {
        "colab": {
          "base_uri": "https://localhost:8080/"
        },
        "id": "81Ux4qghwFAH",
        "outputId": "6e6b5ca4-6805-47e6-ba2a-60b62c33ef6b"
      },
      "execution_count": 114,
      "outputs": [
        {
          "output_type": "stream",
          "name": "stdout",
          "text": [
            "This language is Dutch!\n"
          ]
        }
      ]
    },
    {
      "cell_type": "code",
      "source": [
        "predict_language(\"Wir freuen uns auf die Teilnahme an zukünftigen CAIS-Veranstaltungen.\")"
      ],
      "metadata": {
        "colab": {
          "base_uri": "https://localhost:8080/"
        },
        "id": "BKvOVSglwLNj",
        "outputId": "b0dc5bf7-6749-4cf2-8626-9662bba54047"
      },
      "execution_count": 115,
      "outputs": [
        {
          "output_type": "stream",
          "name": "stdout",
          "text": [
            "This language is German!\n"
          ]
        }
      ]
    }
  ]
}