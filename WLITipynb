{
  "nbformat": 4,
  "nbformat_minor": 0,
  "metadata": {
    "colab": {
      "provenance": [],
      "mount_file_id": "1uXQ4z1Cbnc3Nd8LCXLjQfJC3DCHeG_5Y",
      "authorship_tag": "ABX9TyONKDCnM2Z4T/TuaJ4yIYZB",
      "include_colab_link": true
    },
    "kernelspec": {
      "name": "python3",
      "display_name": "Python 3"
    },
    "language_info": {
      "name": "python"
    }
  },
  "cells": [
    {
      "cell_type": "markdown",
      "metadata": {
        "id": "view-in-github",
        "colab_type": "text"
      },
      "source": [
        "<a href=\"https://colab.research.google.com/github/ryunguo/LanguageDetector/blob/main/WLITipynb\" target=\"_parent\"><img src=\"https://colab.research.google.com/assets/colab-badge.svg\" alt=\"Open In Colab\"/></a>"
      ]
    },
    {
      "cell_type": "markdown",
      "source": [
        "**WLIT (What Language Is This?)**"
      ],
      "metadata": {
        "id": "nMQT1Glsmr_3"
      }
    },
    {
      "cell_type": "markdown",
      "source": [
        "We begin by importing the basic packages and modules, such as pandas and numpy."
      ],
      "metadata": {
        "id": "5ECS0oz8jCHu"
      }
    },
    {
      "cell_type": "code",
      "execution_count": 44,
      "metadata": {
        "id": "h71RC8CbeCAq"
      },
      "outputs": [],
      "source": [
        "import pandas as pd\n",
        "import numpy as np\n",
        "from sklearn.preprocessing import LabelEncoder\n",
        "import re\n",
        "import spacy"
      ]
    },
    {
      "cell_type": "markdown",
      "source": [
        "Here, we read the given CSV file and remove any languages that we deemed to be incompatible with our AI language detector."
      ],
      "metadata": {
        "id": "BPKbeRtojHs_"
      }
    },
    {
      "cell_type": "code",
      "source": [
        "df = pd.read_csv(\"Language Detection.csv\")"
      ],
      "metadata": {
        "id": "_uVDKA1KeRj1"
      },
      "execution_count": 45,
      "outputs": []
    },
    {
      "cell_type": "code",
      "source": [
        "language_list = ['English', 'French', 'Italian', 'Spanish', 'Portugeese']\n",
        "df = df.loc[df['Language'].isin(language_list)]"
      ],
      "metadata": {
        "id": "QLrsg1ZT1eS1"
      },
      "execution_count": 47,
      "outputs": []
    },
    {
      "cell_type": "markdown",
      "source": [
        "***Data Wrangling***"
      ],
      "metadata": {
        "id": "g7HDpgJWz0aK"
      }
    },
    {
      "cell_type": "markdown",
      "source": [
        "We use *LabelEncoder()* from *sklearn* to assign each language with a numerical value."
      ],
      "metadata": {
        "id": "7aeuiE8XjVhX"
      }
    },
    {
      "cell_type": "code",
      "source": [
        "x = df['Text']\n",
        "y = df['Language']\n",
        "le = LabelEncoder()\n",
        "y=le.fit_transform(y)"
      ],
      "metadata": {
        "id": "Ob7P2SzReWsF"
      },
      "execution_count": 48,
      "outputs": []
    },
    {
      "cell_type": "markdown",
      "source": [
        "We then used the *re* package to filter out any characters that wouldn't contribute to the AI detection, such as numbers, brackets, and special characters."
      ],
      "metadata": {
        "id": "bRMOBYXbjZh3"
      }
    },
    {
      "cell_type": "code",
      "source": [
        "data = []\n",
        "\n",
        "def removeNonsense(text):\n",
        "  text = re.sub(r'[0-9]', '', text)\n",
        "  text = re.sub(r'[\\[\\]]', '', text)\n",
        "  text = re.sub(r'[\\n]', '', text)\n",
        "\n",
        "  text = text.lower()\n",
        "  return text\n",
        "\n",
        "df[\"Text\"] = df[\"Text\"].apply(removeNonsense)"
      ],
      "metadata": {
        "id": "zAG-sNOZxZcD"
      },
      "execution_count": 49,
      "outputs": []
    },
    {
      "cell_type": "markdown",
      "source": [
        "Here, we downloaded the necessary packages from the spaCy module, that provides us with information about each language, such as the stopwords, lemmatization, and punctuation."
      ],
      "metadata": {
        "id": "Ls4278Zpjq2F"
      }
    },
    {
      "cell_type": "code",
      "source": [
        "\n",
        "!python -m spacy download en_core_web_sm\n",
        "!python -m spacy download fr_core_news_sm\n",
        "!python -m spacy download it_core_news_sm\n",
        "!python -m spacy download pt_core_news_sm\n",
        "!python -m spacy download es_core_news_sm"
      ],
      "metadata": {
        "id": "Uz11UOnXx56o"
      },
      "execution_count": null,
      "outputs": []
    },
    {
      "cell_type": "markdown",
      "source": [
        "***Text Pre-processing***"
      ],
      "metadata": {
        "id": "tRtx42KWTus_"
      }
    },
    {
      "cell_type": "markdown",
      "source": [
        "Using the spaCy modules, we removed any punctuation and stopwords (\"the\", \"a\"), as well as lemmatized (\"is\" -> \"be\", \"going\" -> \"go\") each word.\n",
        "\n",
        "After that process was complete, we updated the dataframe with the filtered values."
      ],
      "metadata": {
        "id": "plaaLMmaj9O_"
      }
    },
    {
      "cell_type": "code",
      "source": [
        "nlp_en = spacy.load(\"en_core_web_sm\")\n",
        "nlp_fr = spacy.load(\"fr_core_news_sm\")\n",
        "nlp_it = spacy.load(\"it_core_news_sm\")\n",
        "nlp_pr = spacy.load(\"pt_core_news_sm\")\n",
        "nlp_sp = spacy.load(\"es_core_news_sm\")\n",
        "\n",
        "lang_dict = {\n",
        "    \"English\": nlp_en,\n",
        "    \"French\": nlp_fr,\n",
        "    \"Italian\": nlp_it,\n",
        "    \"Portugeese\": nlp_pr,\n",
        "    \"Spanish\": nlp_sp\n",
        "    }\n",
        "\n",
        "def removeNonsense(doc):\n",
        "  return [token.lemma_ for token in doc if (not token.is_stop) and (not token.is_punct)]\n",
        "\n",
        "for row in df.iterrows():\n",
        "  doc = lang_dict[row[1][1]](row[1][0]) \n",
        "  print(removeNonsense(doc))"
      ],
      "metadata": {
        "id": "SzGpv2dT8pPr"
      },
      "execution_count": null,
      "outputs": []
    },
    {
      "cell_type": "markdown",
      "source": [
        "***Text Representation, Text -> Vector***"
      ],
      "metadata": {
        "id": "5TQfQ02cUU42"
      }
    },
    {
      "cell_type": "markdown",
      "source": [
        "Next, we used *sklearn* to import *CountVectorizer* which converts individual words into a vector counterpart."
      ],
      "metadata": {
        "id": "yPjlYKlXkW0w"
      }
    },
    {
      "cell_type": "code",
      "source": [
        "from sklearn.feature_extraction.text import CountVectorizer\n",
        "\n",
        "count_vectorizer = CountVectorizer()\n",
        "vect_list = count_vectorizer.fit_transform(df['Text']).toarray()"
      ],
      "metadata": {
        "id": "xBL9R3ErCGVU"
      },
      "execution_count": 51,
      "outputs": []
    },
    {
      "cell_type": "markdown",
      "source": [
        "Then, we created training and testing variables by splitting our dataframes."
      ],
      "metadata": {
        "id": "TVa6EWfQkniI"
      }
    },
    {
      "cell_type": "code",
      "source": [
        "from sklearn.model_selection import train_test_split\n",
        "\n",
        "training_x, testing_x, training_y, testing_y = train_test_split(vect_list, y, test_size = 0.25)"
      ],
      "metadata": {
        "id": "OznI6ldBByb1"
      },
      "execution_count": 52,
      "outputs": []
    },
    {
      "cell_type": "markdown",
      "source": [
        "Next, we used Naive Bayes algorithms from *sklearn* in order to train our model."
      ],
      "metadata": {
        "id": "nBCkttuGlFng"
      }
    },
    {
      "cell_type": "code",
      "source": [
        "from sklearn.naive_bayes import MultinomialNB\n",
        "\n",
        "model = MultinomialNB()\n",
        "model.fit(training_x, training_y)"
      ],
      "metadata": {
        "id": "p6S55wnRDm1u"
      },
      "execution_count": null,
      "outputs": []
    },
    {
      "cell_type": "code",
      "source": [
        "from sklearn.naive_bayes import GaussianNB"
      ],
      "metadata": {
        "id": "7QpFIffudB1N"
      },
      "execution_count": 54,
      "outputs": []
    },
    {
      "cell_type": "code",
      "source": [
        "nb_model = GaussianNB()\n",
        "nb_model = nb_model.fit(training_x, training_y)"
      ],
      "metadata": {
        "id": "hcO_wi5PdHJq"
      },
      "execution_count": 55,
      "outputs": []
    },
    {
      "cell_type": "code",
      "source": [
        "x = count_vectorizer.transform([\"hole sahith\"]).toarray()\n",
        "my_prediction = nb_model.predict(x)\n",
        "print((le.inverse_transform(my_prediction)[0]))"
      ],
      "metadata": {
        "colab": {
          "base_uri": "https://localhost:8080/"
        },
        "id": "EsPGWy8SdQvd",
        "outputId": "0d362938-9614-4e1f-c423-aac7d45dc174"
      },
      "execution_count": 56,
      "outputs": [
        {
          "output_type": "stream",
          "name": "stdout",
          "text": [
            "Italian\n"
          ]
        }
      ]
    },
    {
      "cell_type": "markdown",
      "source": [
        "Lastly, we created a function to take in a user-inputted string and uses our AI to predict which language it is in."
      ],
      "metadata": {
        "id": "mi6JaLBnler9"
      }
    },
    {
      "cell_type": "code",
      "source": [
        "def predict_language(text):\n",
        "  x = count_vectorizer.transform([text]).toarray()\n",
        "  language = model.predict(x)\n",
        "  language = le.inverse_transform(language)\n",
        "  print(language[0])"
      ],
      "metadata": {
        "id": "YaTEoWrkEBcZ"
      },
      "execution_count": 61,
      "outputs": []
    },
    {
      "cell_type": "markdown",
      "source": [
        "***Examples***"
      ],
      "metadata": {
        "id": "W5RXOcBhlsX8"
      }
    },
    {
      "cell_type": "code",
      "source": [
        "predict_language(\"This is an AI language detector.\")"
      ],
      "metadata": {
        "colab": {
          "base_uri": "https://localhost:8080/"
        },
        "id": "bHNdqSpEeB2p",
        "outputId": "5789d687-167c-4c4e-b647-170278493b5d"
      },
      "execution_count": 58,
      "outputs": [
        {
          "output_type": "stream",
          "name": "stdout",
          "text": [
            "English\n"
          ]
        }
      ]
    },
    {
      "cell_type": "code",
      "source": [
        "predict_language(\"Je suis un étudiant à l'Université Carleton.\")"
      ],
      "metadata": {
        "colab": {
          "base_uri": "https://localhost:8080/"
        },
        "id": "ukurLxx0eERj",
        "outputId": "93e24edb-74c7-4363-fc4c-eb0b8d41f0c9"
      },
      "execution_count": 59,
      "outputs": [
        {
          "output_type": "stream",
          "name": "stdout",
          "text": [
            "French\n"
          ]
        }
      ]
    },
    {
      "cell_type": "code",
      "source": [
        "predict_language(\"Espero que ganemos este hackathon.\")"
      ],
      "metadata": {
        "colab": {
          "base_uri": "https://localhost:8080/"
        },
        "id": "f0F3J__ul_3d",
        "outputId": "fb78de55-26dc-4b14-dc8f-12d51e29198b"
      },
      "execution_count": 60,
      "outputs": [
        {
          "output_type": "stream",
          "name": "stdout",
          "text": [
            "Spanish\n"
          ]
        }
      ]
    },
    {
      "cell_type": "code",
      "source": [
        "predict_language(\"Questo rilevatore di lingua ha un alto tasso di precisione.\")"
      ],
      "metadata": {
        "colab": {
          "base_uri": "https://localhost:8080/"
        },
        "id": "JpnhqRL3mHNi",
        "outputId": "2312ea89-a75c-4d03-d8a7-47e676d19cdc"
      },
      "execution_count": 62,
      "outputs": [
        {
          "output_type": "stream",
          "name": "stdout",
          "text": [
            "Italian\n"
          ]
        }
      ]
    },
    {
      "cell_type": "code",
      "source": [
        "predict_language(\"Olá Mundo. Eu amo ciência da computação.\")"
      ],
      "metadata": {
        "colab": {
          "base_uri": "https://localhost:8080/"
        },
        "id": "WSDv4sz7mQIy",
        "outputId": "3ca59322-0967-4620-ae42-126135b68d2e"
      },
      "execution_count": 63,
      "outputs": [
        {
          "output_type": "stream",
          "name": "stdout",
          "text": [
            "Portugeese\n"
          ]
        }
      ]
    },
    {
      "cell_type": "code",
      "source": [],
      "metadata": {
        "id": "tdMUWv7UmbmL"
      },
      "execution_count": null,
      "outputs": []
    }
  ]
}